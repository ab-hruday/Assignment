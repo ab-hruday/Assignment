{
 "cells": [
  {
   "cell_type": "code",
   "execution_count": 1,
   "id": "371d1a89-f2b2-4895-8f2d-e28d8032cc48",
   "metadata": {},
   "outputs": [
    {
     "name": "stdin",
     "output_type": "stream",
     "text": [
      "enter your marks 80\n"
     ]
    },
    {
     "name": "stdout",
     "output_type": "stream",
     "text": [
      "Your Grade is C\n"
     ]
    }
   ],
   "source": [
    "marks = int(input(\"enter your marks\"))\n",
    "if marks >90:\n",
    "    print (\"Your Grade is A\")\n",
    "elif marks >80 and marks <=90 :\n",
    "    print(\"Your Grade is B\")\n",
    "elif marks >=60 and marks <=80 :\n",
    "    print(\"Your Grade is C\")\n",
    "else :\n",
    "    print(\"Your Grade is D\")"
   ]
  },
  {
   "cell_type": "code",
   "execution_count": 2,
   "id": "7c153c1d-62d0-4c61-8e11-721e1bca0822",
   "metadata": {},
   "outputs": [
    {
     "name": "stdin",
     "output_type": "stream",
     "text": [
      "enter the price of bike  5000\n"
     ]
    },
    {
     "name": "stdout",
     "output_type": "stream",
     "text": [
      "Your road tax is 5%\n"
     ]
    }
   ],
   "source": [
    "price = int(input(\"enter the price of bike \"))\n",
    "if price >100000 :\n",
    "    print (\"Your road tax is 15%\")\n",
    "elif price >50000 and price <100000 :\n",
    "    print(\"Your road tax is 10%\")\n",
    "else :\n",
    "    print(\"Your road tax is 5%\")\n"
   ]
  },
  {
   "cell_type": "code",
   "execution_count": 4,
   "id": "ee5a7fb0-9e38-4780-922a-afbc6ad39a89",
   "metadata": {},
   "outputs": [
    {
     "name": "stdin",
     "output_type": "stream",
     "text": [
      "enter your city Agra\n"
     ]
    },
    {
     "name": "stdout",
     "output_type": "stream",
     "text": [
      "Monument of your city is Tajmahal\n"
     ]
    }
   ],
   "source": [
    "city = input(\"enter your city\")\n",
    "if city == \"Delhi\" :\n",
    "    print(\"Monument of your city is Red Fort\")\n",
    "if city == \"Agra\" :\n",
    "    print(\"Monument of your city is Tajmahal\")\n",
    "if city == \"Jaipur\":\n",
    "    print(\"Monument of your city is Jal Mahal\")"
   ]
  },
  {
   "cell_type": "code",
   "execution_count": 7,
   "id": "7b4e6b55-66bc-46b5-bb5d-43476bac433c",
   "metadata": {},
   "outputs": [
    {
     "name": "stdin",
     "output_type": "stream",
     "text": [
      "Enter the numbers 2\n"
     ]
    },
    {
     "name": "stdout",
     "output_type": "stream",
     "text": [
      "0\n"
     ]
    }
   ],
   "source": [
    "num = int(input(\"Enter the numbers\"))\n",
    "count = 0\n",
    "while num > 10:\n",
    "    num = num / 3\n",
    "    count += 1\n",
    "print(count)"
   ]
  },
  {
   "cell_type": "code",
   "execution_count": 8,
   "id": "0a72be94-e084-4aea-a603-42f97789b917",
   "metadata": {},
   "outputs": [
    {
     "data": {
      "text/plain": [
       "'Ans => Python while loop is used to run a block code until a certain condition is met.\\n      The syntax of while loop is:\\n      while condition:\\n      # body of while loop\\n      Here,\\n      A while loop evaluates the condition\\n      If the condition evaluates to True, the code inside the while loop is executed.\\n      condition is evaluated again.\\n      This process continues until the condition is False.\\n      When condition evaluates to False, the loop stops'"
      ]
     },
     "execution_count": 8,
     "metadata": {},
     "output_type": "execute_result"
    }
   ],
   "source": [
    "'''Ans => Python while loop is used to run a block code until a certain condition is met.\n",
    "      The syntax of while loop is:\n",
    "      while condition:\n",
    "      # body of while loop\n",
    "      Here,\n",
    "      A while loop evaluates the condition\n",
    "      If the condition evaluates to True, the code inside the while loop is executed.\n",
    "      condition is evaluated again.\n",
    "      This process continues until the condition is False.\n",
    "      When condition evaluates to False, the loop stops'''"
   ]
  },
  {
   "cell_type": "code",
   "execution_count": 9,
   "id": "0dcf06f8-edca-4239-881d-ab1c69375e84",
   "metadata": {},
   "outputs": [
    {
     "name": "stdout",
     "output_type": "stream",
     "text": [
      "*\n",
      "**\n",
      "***\n",
      "****\n",
      "*****\n",
      "-----\n",
      "*****\n",
      "****\n",
      "***\n",
      "**\n",
      "*\n",
      "-----\n",
      "    *\n",
      "   **\n",
      "  ***\n",
      " ****\n",
      "*****\n"
     ]
    }
   ],
   "source": [
    "# Pattern 1:\n",
    "i = 1\n",
    "while i <= 5:\n",
    "    j = 1\n",
    "    while j <= i:\n",
    "        print(\"*\", end=\"\")\n",
    "        j += 1\n",
    "    print(\"\")\n",
    "    i += 1\n",
    "    \n",
    "print(\"-----\")\n",
    "# Pattern 2:\n",
    "i = 5\n",
    "while i >= 1:\n",
    "    j = i\n",
    "    while j >= 1:\n",
    "        print(\"*\", end=\"\")\n",
    "        j -= 1\n",
    "    print(\"\")\n",
    "    i -= 1\n",
    "\n",
    "print(\"-----\")\n",
    "# Pattern 3:\n",
    "i = 5\n",
    "while i >= 1:\n",
    "    j = 1\n",
    "    while j <= 5:\n",
    "        if j >= i:\n",
    "            print(\"*\", end=\"\")\n",
    "        else:\n",
    "            print(\" \", end=\"\")\n",
    "        j += 1\n",
    "    print(\"\")\n",
    "    i -= 1"
   ]
  },
  {
   "cell_type": "code",
   "execution_count": 10,
   "id": "89cb12fd-5d4d-4418-8541-81a3392f9455",
   "metadata": {},
   "outputs": [
    {
     "name": "stdout",
     "output_type": "stream",
     "text": [
      "0\n"
     ]
    }
   ],
   "source": [
    "i = 10\n",
    "while i > 0:\n",
    "    i = i - 1\n",
    "print(i)"
   ]
  },
  {
   "cell_type": "code",
   "execution_count": null,
   "id": "1078e74d-50db-48b3-9751-32e929e9060c",
   "metadata": {},
   "outputs": [],
   "source": []
  }
 ],
 "metadata": {
  "kernelspec": {
   "display_name": "Python 3 (ipykernel)",
   "language": "python",
   "name": "python3"
  },
  "language_info": {
   "codemirror_mode": {
    "name": "ipython",
    "version": 3
   },
   "file_extension": ".py",
   "mimetype": "text/x-python",
   "name": "python",
   "nbconvert_exporter": "python",
   "pygments_lexer": "ipython3",
   "version": "3.10.8"
  }
 },
 "nbformat": 4,
 "nbformat_minor": 5
}
