{
 "cells": [
  {
   "cell_type": "code",
   "execution_count": 2,
   "id": "894f7d3a",
   "metadata": {},
   "outputs": [],
   "source": [
    "#01>Python programming language is developed by Guido van Rossum"
   ]
  },
  {
   "cell_type": "code",
   "execution_count": 3,
   "id": "0a34cb5e",
   "metadata": {},
   "outputs": [],
   "source": [
    "#02>Python is a multi-paradigm programming language. Object-oriented programming and structured programming"
   ]
  },
  {
   "cell_type": "code",
   "execution_count": 4,
   "id": "e304ca08",
   "metadata": {},
   "outputs": [],
   "source": [
    "#03>Yes, Python is a case-sensitive language"
   ]
  },
  {
   "cell_type": "code",
   "execution_count": 5,
   "id": "8c5c7e47",
   "metadata": {},
   "outputs": [],
   "source": [
    "#04> .py [Dot]py is correct extension for python"
   ]
  },
  {
   "cell_type": "code",
   "execution_count": 6,
   "id": "c0a05060",
   "metadata": {},
   "outputs": [],
   "source": [
    "#05>python programs are both compiled as well as interpreted"
   ]
  },
  {
   "cell_type": "code",
   "execution_count": 7,
   "id": "85a09c66",
   "metadata": {},
   "outputs": [],
   "source": [
    "#06>A module,function body,and a class definition"
   ]
  },
  {
   "cell_type": "code",
   "execution_count": 8,
   "id": "295a3906",
   "metadata": {},
   "outputs": [],
   "source": [
    "#07> # hash is a character to give single line comment"
   ]
  },
  {
   "cell_type": "code",
   "execution_count": 9,
   "id": "2121229b",
   "metadata": {},
   "outputs": [],
   "source": [
    "#08> sing sys.version method.Using python_version() function.Using Python -V command."
   ]
  },
  {
   "cell_type": "code",
   "execution_count": 10,
   "id": "6de65bdd",
   "metadata": {},
   "outputs": [],
   "source": [
    "#09>Python supports to make anonymous functions which are not bound to a name(@ runtime). It uses a construct called \"lambda\" ."
   ]
  },
  {
   "cell_type": "code",
   "execution_count": 11,
   "id": "609bace2",
   "metadata": {},
   "outputs": [],
   "source": [
    "#10> pip in python is stands for preferred installer program"
   ]
  },
  {
   "cell_type": "code",
   "execution_count": 12,
   "id": "a55cfcf2",
   "metadata": {},
   "outputs": [],
   "source": [
    "#11>print( ) functiontype( ) function input( ) functionabs( ) functionpow( ) functiondir( ) functionsorted( ) functionmax( ) functionround( ) functiondivmod( ) functionid( ) functionord( ) functionlen( ) functionsum( ) functionhelp( ) function"
   ]
  },
  {
   "cell_type": "code",
   "execution_count": 13,
   "id": "56eb6592",
   "metadata": {},
   "outputs": [],
   "source": [
    "#12>An identifier can have a maximum length of 79 characters in Python"
   ]
  },
  {
   "cell_type": "code",
   "execution_count": 14,
   "id": "1826c604",
   "metadata": {},
   "outputs": [],
   "source": [
    "#13>Data science.Scientific and mathematical computing.Web development.Finance and trading System automation and administration.Computer graphics.Basic game development.Security and penetration testing."
   ]
  },
  {
   "cell_type": "code",
   "execution_count": 15,
   "id": "a4e6af8d",
   "metadata": {},
   "outputs": [],
   "source": [
    "#14>Memory management in Python involves a private heap containing all Python objects and data structures"
   ]
  },
  {
   "cell_type": "code",
   "execution_count": 16,
   "id": "e492ae34",
   "metadata": {},
   "outputs": [],
   "source": [
    "#15Right-clicking This PC and going to Properties.\n",
    "\n",
    "#Clicking on the Advanced system settings in the menu on the left.\n",
    "\n",
    "#Clicking on the Environment Variables button o​n the bottom right.\n",
    "\n",
    "#In the System variables section, selecting the Path variable and clicking on Edit. The next screen will show all the directories that are currently a part of the PATH variable.\n",
    "\n",
    "#Clicking on New and entering Python’s install directory."
   ]
  },
  {
   "cell_type": "code",
   "execution_count": 17,
   "id": "d29e4159",
   "metadata": {},
   "outputs": [],
   "source": [
    "# 15>yes python required indentation  and it is very important else it gives error "
   ]
  }
 ],
 "metadata": {
  "kernelspec": {
   "display_name": "Python 3 (ipykernel)",
   "language": "python",
   "name": "python3"
  },
  "language_info": {
   "codemirror_mode": {
    "name": "ipython",
    "version": 3
   },
   "file_extension": ".py",
   "mimetype": "text/x-python",
   "name": "python",
   "nbconvert_exporter": "python",
   "pygments_lexer": "ipython3",
   "version": "3.9.13"
  }
 },
 "nbformat": 4,
 "nbformat_minor": 5
}
